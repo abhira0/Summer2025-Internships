{
 "cells": [
  {
   "cell_type": "code",
   "execution_count": 8,
   "metadata": {},
   "outputs": [],
   "source": [
    "\n",
    "user = \"jobs_abhirao_in\"\n",
    "password = \"jYnqZ-gwpNi-QJ6CZ-cWr9S-d8PqF\"\n",
    "\n",
    "username = \"demo\"\n",
    "\n",
    "import nc_py_api\n",
    "\n",
    "nc = nc_py_api.Nextcloud(nextcloud_url=\"https://hulkinblue.dragon.usbx.me/nextcloud\", nc_auth_user=user, nc_auth_pass=password)\n",
    "\n",
    "with open(\"raw.json\" , \"r\") as f:\n",
    "    nc.files.upload_stream(f\"simplify_tracker_data/{username}.json\", f)"
   ]
  },
  {
   "cell_type": "code",
   "execution_count": null,
   "metadata": {},
   "outputs": [],
   "source": []
  }
 ],
 "metadata": {
  "language_info": {
   "name": "python"
  }
 },
 "nbformat": 4,
 "nbformat_minor": 2
}
